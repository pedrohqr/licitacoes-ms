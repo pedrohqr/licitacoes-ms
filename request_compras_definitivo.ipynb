{
 "cells": [
  {
   "cell_type": "code",
   "execution_count": 1,
   "metadata": {},
   "outputs": [],
   "source": [
    "import requests\n",
    "import json\n",
    "from tqdm.auto import tqdm\n",
    "import os\n",
    "from bs4 import BeautifulSoup"
   ]
  },
  {
   "cell_type": "code",
   "execution_count": 2,
   "metadata": {},
   "outputs": [],
   "source": [
    "maxPages = 150\n",
    "rowsPerPage = 100\n",
    "i = 1\n",
    "j = 1\n",
    "z = 0\n",
    "editais = 0"
   ]
  },
  {
   "cell_type": "code",
   "execution_count": 6,
   "metadata": {},
   "outputs": [
    {
     "name": "stdout",
     "output_type": "stream",
     "text": [
      "Página [84]\n",
      "<Response [200]>\n"
     ]
    },
    {
     "ename": "FileNotFoundError",
     "evalue": "[Errno 2] No such file or directory: 'licitacoes2\\\\18088\\\\parecer 09-2023-Resposta ao recurso administrativo da empresa AMV DISTRIBUIÇÃO, COMERCIO E IMPORTAÇÃO LTDA - processo nº 58 - 2023 - pregão nº 12 - 2023 - assinado.pdf'",
     "output_type": "error",
     "traceback": [
      "\u001b[1;31m---------------------------------------------------------------------------\u001b[0m",
      "\u001b[1;31mFileNotFoundError\u001b[0m                         Traceback (most recent call last)",
      "Cell \u001b[1;32mIn[6], line 25\u001b[0m\n\u001b[0;32m     23\u001b[0m TR \u001b[38;5;241m=\u001b[39m requests\u001b[38;5;241m.\u001b[39mget(download3)\n\u001b[0;32m     24\u001b[0m os\u001b[38;5;241m.\u001b[39mmakedirs(os\u001b[38;5;241m.\u001b[39mpath\u001b[38;5;241m.\u001b[39mdirname(os\u001b[38;5;241m.\u001b[39mpath\u001b[38;5;241m.\u001b[39mjoin(\u001b[38;5;124m'\u001b[39m\u001b[38;5;124mlicitacoes2\u001b[39m\u001b[38;5;124m'\u001b[39m, \u001b[38;5;28mstr\u001b[39m(\u001b[38;5;28mid\u001b[39m), data_table2\u001b[38;5;241m.\u001b[39mget(\u001b[38;5;124m'\u001b[39m\u001b[38;5;124mdocumentos\u001b[39m\u001b[38;5;124m'\u001b[39m)[z]\u001b[38;5;241m.\u001b[39mget(\u001b[38;5;124m'\u001b[39m\u001b[38;5;124marquivoNome\u001b[39m\u001b[38;5;124m'\u001b[39m))), exist_ok\u001b[38;5;241m=\u001b[39m\u001b[38;5;28;01mTrue\u001b[39;00m)\n\u001b[1;32m---> 25\u001b[0m file \u001b[38;5;241m=\u001b[39m \u001b[38;5;28;43mopen\u001b[39;49m\u001b[43m(\u001b[49m\u001b[43mos\u001b[49m\u001b[38;5;241;43m.\u001b[39;49m\u001b[43mpath\u001b[49m\u001b[38;5;241;43m.\u001b[39;49m\u001b[43mjoin\u001b[49m\u001b[43m(\u001b[49m\u001b[38;5;124;43m'\u001b[39;49m\u001b[38;5;124;43mlicitacoes2\u001b[39;49m\u001b[38;5;124;43m'\u001b[39;49m\u001b[43m,\u001b[49m\u001b[38;5;28;43mstr\u001b[39;49m\u001b[43m(\u001b[49m\u001b[38;5;28;43mid\u001b[39;49m\u001b[43m)\u001b[49m\u001b[43m,\u001b[49m\u001b[43m \u001b[49m\u001b[43mdata_table2\u001b[49m\u001b[38;5;241;43m.\u001b[39;49m\u001b[43mget\u001b[49m\u001b[43m(\u001b[49m\u001b[38;5;124;43m'\u001b[39;49m\u001b[38;5;124;43mdocumentos\u001b[39;49m\u001b[38;5;124;43m'\u001b[39;49m\u001b[43m)\u001b[49m\u001b[43m[\u001b[49m\u001b[43mz\u001b[49m\u001b[43m]\u001b[49m\u001b[38;5;241;43m.\u001b[39;49m\u001b[43mget\u001b[49m\u001b[43m(\u001b[49m\u001b[38;5;124;43m'\u001b[39;49m\u001b[38;5;124;43marquivoNome\u001b[39;49m\u001b[38;5;124;43m'\u001b[39;49m\u001b[43m)\u001b[49m\u001b[43m)\u001b[49m\u001b[43m,\u001b[49m\u001b[43m \u001b[49m\u001b[38;5;124;43m'\u001b[39;49m\u001b[38;5;124;43mwb\u001b[39;49m\u001b[38;5;124;43m'\u001b[39;49m\u001b[43m)\u001b[49m\n\u001b[0;32m     26\u001b[0m file\u001b[38;5;241m.\u001b[39mwrite(TR\u001b[38;5;241m.\u001b[39mcontent)\n\u001b[0;32m     27\u001b[0m file\u001b[38;5;241m.\u001b[39mclose()\n",
      "File \u001b[1;32m~\\AppData\\Roaming\\Python\\Python312\\site-packages\\IPython\\core\\interactiveshell.py:324\u001b[0m, in \u001b[0;36m_modified_open\u001b[1;34m(file, *args, **kwargs)\u001b[0m\n\u001b[0;32m    317\u001b[0m \u001b[38;5;28;01mif\u001b[39;00m file \u001b[38;5;129;01min\u001b[39;00m {\u001b[38;5;241m0\u001b[39m, \u001b[38;5;241m1\u001b[39m, \u001b[38;5;241m2\u001b[39m}:\n\u001b[0;32m    318\u001b[0m     \u001b[38;5;28;01mraise\u001b[39;00m \u001b[38;5;167;01mValueError\u001b[39;00m(\n\u001b[0;32m    319\u001b[0m         \u001b[38;5;124mf\u001b[39m\u001b[38;5;124m\"\u001b[39m\u001b[38;5;124mIPython won\u001b[39m\u001b[38;5;124m'\u001b[39m\u001b[38;5;124mt let you open fd=\u001b[39m\u001b[38;5;132;01m{\u001b[39;00mfile\u001b[38;5;132;01m}\u001b[39;00m\u001b[38;5;124m by default \u001b[39m\u001b[38;5;124m\"\u001b[39m\n\u001b[0;32m    320\u001b[0m         \u001b[38;5;124m\"\u001b[39m\u001b[38;5;124mas it is likely to crash IPython. If you know what you are doing, \u001b[39m\u001b[38;5;124m\"\u001b[39m\n\u001b[0;32m    321\u001b[0m         \u001b[38;5;124m\"\u001b[39m\u001b[38;5;124myou can use builtins\u001b[39m\u001b[38;5;124m'\u001b[39m\u001b[38;5;124m open.\u001b[39m\u001b[38;5;124m\"\u001b[39m\n\u001b[0;32m    322\u001b[0m     )\n\u001b[1;32m--> 324\u001b[0m \u001b[38;5;28;01mreturn\u001b[39;00m \u001b[43mio_open\u001b[49m\u001b[43m(\u001b[49m\u001b[43mfile\u001b[49m\u001b[43m,\u001b[49m\u001b[43m \u001b[49m\u001b[38;5;241;43m*\u001b[39;49m\u001b[43margs\u001b[49m\u001b[43m,\u001b[49m\u001b[43m \u001b[49m\u001b[38;5;241;43m*\u001b[39;49m\u001b[38;5;241;43m*\u001b[39;49m\u001b[43mkwargs\u001b[49m\u001b[43m)\u001b[49m\n",
      "\u001b[1;31mFileNotFoundError\u001b[0m: [Errno 2] No such file or directory: 'licitacoes2\\\\18088\\\\parecer 09-2023-Resposta ao recurso administrativo da empresa AMV DISTRIBUIÇÃO, COMERCIO E IMPORTAÇÃO LTDA - processo nº 58 - 2023 - pregão nº 12 - 2023 - assinado.pdf'"
     ]
    }
   ],
   "source": [
    "while(i <= maxPages):\n",
    "    print(f'Página [{i}]')\n",
    "\n",
    "    response = requests.get('https://app.comprasbr.com.br/licitacao/api/licitacao/public/portal/processos/?size=100&page='+str(i))\n",
    "    print(response)\n",
    "    if response.status_code != 200 : \n",
    "            break\n",
    "    data_table = json.loads(response.content)  \n",
    "    for j in range(100):\n",
    "          response = requests.get('https://app.comprasbr.com.br/licitacao/api/licitacao/public/portal/processos/?size=100&page='+str(i))\n",
    "          data_table = json.loads(response.content)  \n",
    "          id = data_table.get('items')[j].get('id')\n",
    "          response2 = requests.get('https://app.comprasbr.com.br/licitacao/api/licitacao/public/portal/paginaInterna/idLicitacao=' +str(id))\n",
    "          if response2.status_code != 200:\n",
    "               break\n",
    "          data_table2 = json.loads(response2.content)  \n",
    "          quantidade_documentos = 0\n",
    "          quantidade_documentos = len(data_table2.get('documentos'))\n",
    "          os.chdir(r'C:\\\\Users\\\\Guilherme Lube\\\\Documents\\\\Trabalho\\\\Download_licitacao\\\\licitacoes_compras')\n",
    "          while(z < int(quantidade_documentos)):\n",
    "            link = data_table2.get('documentos')[z].get('arquivoUri')\n",
    "            download3 = 'https://app.comprasbr.com.br/licitacao/hal/public/arquivos?uri='+str(link)+'&thumbnail=false'\n",
    "            TR = requests.get(download3)\n",
    "            os.makedirs(os.path.dirname(os.path.join('licitacoes2', str(id), data_table2.get('documentos')[z].get('arquivoNome'))), exist_ok=True)\n",
    "            file = open(os.path.join('licitacoes2',str(id), data_table2.get('documentos')[z].get('arquivoNome')), 'wb')\n",
    "            file.write(TR.content)\n",
    "            file.close()\n",
    "            z = z + 1\n",
    "    i = i + 1\n",
    "    j = 1\n",
    "    z = 0"
   ]
  },
  {
   "cell_type": "code",
   "execution_count": 12,
   "metadata": {},
   "outputs": [],
   "source": [
    "i = 117"
   ]
  },
  {
   "cell_type": "code",
   "execution_count": 14,
   "metadata": {},
   "outputs": [
    {
     "name": "stdout",
     "output_type": "stream",
     "text": [
      "Página [133]\n",
      "<Response [200]>\n"
     ]
    },
    {
     "ename": "FileNotFoundError",
     "evalue": "[Errno 2] No such file or directory: 'licitacoes3\\\\25659\\\\Ata-Sessão-009 / 2024.pdf'",
     "output_type": "error",
     "traceback": [
      "\u001b[1;31m---------------------------------------------------------------------------\u001b[0m",
      "\u001b[1;31mFileNotFoundError\u001b[0m                         Traceback (most recent call last)",
      "Cell \u001b[1;32mIn[14], line 27\u001b[0m\n\u001b[0;32m     24\u001b[0m os\u001b[38;5;241m.\u001b[39mmakedirs(os\u001b[38;5;241m.\u001b[39mpath\u001b[38;5;241m.\u001b[39mdirname(os\u001b[38;5;241m.\u001b[39mpath\u001b[38;5;241m.\u001b[39mjoin(\u001b[38;5;124m'\u001b[39m\u001b[38;5;124mlicitacoes3\u001b[39m\u001b[38;5;124m'\u001b[39m, \u001b[38;5;28mstr\u001b[39m(\u001b[38;5;28mid\u001b[39m), data_table2\u001b[38;5;241m.\u001b[39mget(\u001b[38;5;124m'\u001b[39m\u001b[38;5;124mdocumentos\u001b[39m\u001b[38;5;124m'\u001b[39m)[z]\u001b[38;5;241m.\u001b[39mget(\u001b[38;5;124m'\u001b[39m\u001b[38;5;124marquivoNome\u001b[39m\u001b[38;5;124m'\u001b[39m))), exist_ok\u001b[38;5;241m=\u001b[39m\u001b[38;5;28;01mTrue\u001b[39;00m)\n\u001b[0;32m     25\u001b[0m \u001b[38;5;28;01mif\u001b[39;00m (TR \u001b[38;5;241m!=\u001b[39m \u001b[38;5;124m'\u001b[39m\u001b[38;5;124mESCLARECIMENTO Concorrência eletronica 003.24 - CONTRATAÇÃO DE EMPRESA ESPECIALIZADA NA ÁREA DE ENGENHARIA E ARQUITETURA PARA A REFORMA DE PONTE, LOCALIZADA NO BAIRRO VISTA ALEGRE - SERPREL.pdf\u001b[39m\u001b[38;5;124m'\u001b[39m): \n\u001b[1;32m---> 27\u001b[0m     file \u001b[38;5;241m=\u001b[39m \u001b[38;5;28;43mopen\u001b[39;49m\u001b[43m(\u001b[49m\u001b[43mos\u001b[49m\u001b[38;5;241;43m.\u001b[39;49m\u001b[43mpath\u001b[49m\u001b[38;5;241;43m.\u001b[39;49m\u001b[43mjoin\u001b[49m\u001b[43m(\u001b[49m\u001b[38;5;124;43m'\u001b[39;49m\u001b[38;5;124;43mlicitacoes3\u001b[39;49m\u001b[38;5;124;43m'\u001b[39;49m\u001b[43m,\u001b[49m\u001b[38;5;28;43mstr\u001b[39;49m\u001b[43m(\u001b[49m\u001b[38;5;28;43mid\u001b[39;49m\u001b[43m)\u001b[49m\u001b[43m,\u001b[49m\u001b[43m \u001b[49m\u001b[43mdata_table2\u001b[49m\u001b[38;5;241;43m.\u001b[39;49m\u001b[43mget\u001b[49m\u001b[43m(\u001b[49m\u001b[38;5;124;43m'\u001b[39;49m\u001b[38;5;124;43mdocumentos\u001b[39;49m\u001b[38;5;124;43m'\u001b[39;49m\u001b[43m)\u001b[49m\u001b[43m[\u001b[49m\u001b[43mz\u001b[49m\u001b[43m]\u001b[49m\u001b[38;5;241;43m.\u001b[39;49m\u001b[43mget\u001b[49m\u001b[43m(\u001b[49m\u001b[38;5;124;43m'\u001b[39;49m\u001b[38;5;124;43marquivoNome\u001b[39;49m\u001b[38;5;124;43m'\u001b[39;49m\u001b[43m)\u001b[49m\u001b[43m)\u001b[49m\u001b[43m,\u001b[49m\u001b[43m \u001b[49m\u001b[38;5;124;43m'\u001b[39;49m\u001b[38;5;124;43mwb\u001b[39;49m\u001b[38;5;124;43m'\u001b[39;49m\u001b[43m)\u001b[49m\n\u001b[0;32m     28\u001b[0m     file\u001b[38;5;241m.\u001b[39mwrite(TR\u001b[38;5;241m.\u001b[39mcontent)\n\u001b[0;32m     29\u001b[0m \u001b[38;5;28;01melse\u001b[39;00m:\n",
      "File \u001b[1;32m~\\AppData\\Roaming\\Python\\Python312\\site-packages\\IPython\\core\\interactiveshell.py:324\u001b[0m, in \u001b[0;36m_modified_open\u001b[1;34m(file, *args, **kwargs)\u001b[0m\n\u001b[0;32m    317\u001b[0m \u001b[38;5;28;01mif\u001b[39;00m file \u001b[38;5;129;01min\u001b[39;00m {\u001b[38;5;241m0\u001b[39m, \u001b[38;5;241m1\u001b[39m, \u001b[38;5;241m2\u001b[39m}:\n\u001b[0;32m    318\u001b[0m     \u001b[38;5;28;01mraise\u001b[39;00m \u001b[38;5;167;01mValueError\u001b[39;00m(\n\u001b[0;32m    319\u001b[0m         \u001b[38;5;124mf\u001b[39m\u001b[38;5;124m\"\u001b[39m\u001b[38;5;124mIPython won\u001b[39m\u001b[38;5;124m'\u001b[39m\u001b[38;5;124mt let you open fd=\u001b[39m\u001b[38;5;132;01m{\u001b[39;00mfile\u001b[38;5;132;01m}\u001b[39;00m\u001b[38;5;124m by default \u001b[39m\u001b[38;5;124m\"\u001b[39m\n\u001b[0;32m    320\u001b[0m         \u001b[38;5;124m\"\u001b[39m\u001b[38;5;124mas it is likely to crash IPython. If you know what you are doing, \u001b[39m\u001b[38;5;124m\"\u001b[39m\n\u001b[0;32m    321\u001b[0m         \u001b[38;5;124m\"\u001b[39m\u001b[38;5;124myou can use builtins\u001b[39m\u001b[38;5;124m'\u001b[39m\u001b[38;5;124m open.\u001b[39m\u001b[38;5;124m\"\u001b[39m\n\u001b[0;32m    322\u001b[0m     )\n\u001b[1;32m--> 324\u001b[0m \u001b[38;5;28;01mreturn\u001b[39;00m \u001b[43mio_open\u001b[49m\u001b[43m(\u001b[49m\u001b[43mfile\u001b[49m\u001b[43m,\u001b[49m\u001b[43m \u001b[49m\u001b[38;5;241;43m*\u001b[39;49m\u001b[43margs\u001b[49m\u001b[43m,\u001b[49m\u001b[43m \u001b[49m\u001b[38;5;241;43m*\u001b[39;49m\u001b[38;5;241;43m*\u001b[39;49m\u001b[43mkwargs\u001b[49m\u001b[43m)\u001b[49m\n",
      "\u001b[1;31mFileNotFoundError\u001b[0m: [Errno 2] No such file or directory: 'licitacoes3\\\\25659\\\\Ata-Sessão-009 / 2024.pdf'"
     ]
    }
   ],
   "source": [
    "while(i <= maxPages):\n",
    "    print(f'Página [{i}]')\n",
    "\n",
    "    response = requests.get('https://app.comprasbr.com.br/licitacao/api/licitacao/public/portal/processos/?size=10&page='+str(i))\n",
    "    print(response)\n",
    "    if response.status_code != 200 : \n",
    "            break\n",
    "    data_table = json.loads(response.content)  \n",
    "    for j in range(10):\n",
    "          response = requests.get('https://app.comprasbr.com.br/licitacao/api/licitacao/public/portal/processos/?size=10&page='+str(i))\n",
    "          data_table = json.loads(response.content)  \n",
    "          id = data_table.get('items')[j].get('id')\n",
    "          response2 = requests.get('https://app.comprasbr.com.br/licitacao/api/licitacao/public/portal/paginaInterna/idLicitacao=' +str(id))\n",
    "          if response2.status_code != 200:\n",
    "               break\n",
    "          data_table2 = json.loads(response2.content)  \n",
    "          quantidade_documentos = 0\n",
    "          quantidade_documentos = len(data_table2.get('documentos'))\n",
    "          os.chdir(r'C:\\\\Users\\\\Guilherme Lube\\\\Documents\\\\Trabalho\\\\Download_licitacao\\\\licitacoes_compras')\n",
    "          while(z < int(quantidade_documentos)):\n",
    "            link = data_table2.get('documentos')[z].get('arquivoUri')\n",
    "            download3 = 'https://app.comprasbr.com.br/licitacao/hal/public/arquivos?uri='+str(link)+'&thumbnail=false'  \n",
    "            TR = requests.get(download3)\n",
    "            os.makedirs(os.path.dirname(os.path.join('licitacoes3', str(id), data_table2.get('documentos')[z].get('arquivoNome'))), exist_ok=True)\n",
    "            if (TR != 'ESCLARECIMENTO Concorrência eletronica 003.24 - CONTRATAÇÃO DE EMPRESA ESPECIALIZADA NA ÁREA DE ENGENHARIA E ARQUITETURA PARA A REFORMA DE PONTE, LOCALIZADA NO BAIRRO VISTA ALEGRE - SERPREL.pdf'): \n",
    "                 \n",
    "                file = open(os.path.join('licitacoes3',str(id), data_table2.get('documentos')[z].get('arquivoNome')), 'wb')\n",
    "                file.write(TR.content)\n",
    "            else:\n",
    "                 print(f\"Arquivo nao existe\")\n",
    "            file.close()\n",
    "            z = z + 1\n",
    "    i = i + 1\n",
    "    j = 1\n",
    "    z = 0"
   ]
  },
  {
   "cell_type": "code",
   "execution_count": 7,
   "metadata": {},
   "outputs": [],
   "source": [
    "i = 55"
   ]
  },
  {
   "cell_type": "code",
   "execution_count": 8,
   "metadata": {},
   "outputs": [
    {
     "name": "stdout",
     "output_type": "stream",
     "text": [
      "Página [55]\n",
      "<Response [200]>\n",
      "Página [56]\n",
      "<Response [200]>\n"
     ]
    },
    {
     "ename": "FileNotFoundError",
     "evalue": "[Errno 2] No such file or directory: 'licitacoes4\\\\27020\\\\Ata-Habilitados-33/2024.pdf'",
     "output_type": "error",
     "traceback": [
      "\u001b[1;31m---------------------------------------------------------------------------\u001b[0m",
      "\u001b[1;31mFileNotFoundError\u001b[0m                         Traceback (most recent call last)",
      "Cell \u001b[1;32mIn[8], line 27\u001b[0m\n\u001b[0;32m     24\u001b[0m os\u001b[38;5;241m.\u001b[39mmakedirs(os\u001b[38;5;241m.\u001b[39mpath\u001b[38;5;241m.\u001b[39mdirname(os\u001b[38;5;241m.\u001b[39mpath\u001b[38;5;241m.\u001b[39mjoin(\u001b[38;5;124m'\u001b[39m\u001b[38;5;124mlicitacoes4\u001b[39m\u001b[38;5;124m'\u001b[39m, \u001b[38;5;28mstr\u001b[39m(\u001b[38;5;28mid\u001b[39m), data_table2\u001b[38;5;241m.\u001b[39mget(\u001b[38;5;124m'\u001b[39m\u001b[38;5;124mdocumentos\u001b[39m\u001b[38;5;124m'\u001b[39m)[z]\u001b[38;5;241m.\u001b[39mget(\u001b[38;5;124m'\u001b[39m\u001b[38;5;124mtipo\u001b[39m\u001b[38;5;124m'\u001b[39m))), exist_ok\u001b[38;5;241m=\u001b[39m\u001b[38;5;28;01mTrue\u001b[39;00m)\n\u001b[0;32m     25\u001b[0m \u001b[38;5;28;01mif\u001b[39;00m (TR \u001b[38;5;241m!=\u001b[39m \u001b[38;5;124m'\u001b[39m\u001b[38;5;124mESCLARECIMENTO Concorrência eletronica 003.24 - CONTRATAÇÃO DE EMPRESA ESPECIALIZADA NA ÁREA DE ENGENHARIA E ARQUITETURA PARA A REFORMA DE PONTE, LOCALIZADA NO BAIRRO VISTA ALEGRE - SERPREL.pdf\u001b[39m\u001b[38;5;124m'\u001b[39m): \n\u001b[1;32m---> 27\u001b[0m     file \u001b[38;5;241m=\u001b[39m \u001b[38;5;28;43mopen\u001b[39;49m\u001b[43m(\u001b[49m\u001b[43mos\u001b[49m\u001b[38;5;241;43m.\u001b[39;49m\u001b[43mpath\u001b[49m\u001b[38;5;241;43m.\u001b[39;49m\u001b[43mjoin\u001b[49m\u001b[43m(\u001b[49m\u001b[38;5;124;43m'\u001b[39;49m\u001b[38;5;124;43mlicitacoes4\u001b[39;49m\u001b[38;5;124;43m'\u001b[39;49m\u001b[43m,\u001b[49m\u001b[38;5;28;43mstr\u001b[39;49m\u001b[43m(\u001b[49m\u001b[38;5;28;43mid\u001b[39;49m\u001b[43m)\u001b[49m\u001b[43m,\u001b[49m\u001b[43m \u001b[49m\u001b[43mdata_table2\u001b[49m\u001b[38;5;241;43m.\u001b[39;49m\u001b[43mget\u001b[49m\u001b[43m(\u001b[49m\u001b[38;5;124;43m'\u001b[39;49m\u001b[38;5;124;43mdocumentos\u001b[39;49m\u001b[38;5;124;43m'\u001b[39;49m\u001b[43m)\u001b[49m\u001b[43m[\u001b[49m\u001b[43mz\u001b[49m\u001b[43m]\u001b[49m\u001b[38;5;241;43m.\u001b[39;49m\u001b[43mget\u001b[49m\u001b[43m(\u001b[49m\u001b[38;5;124;43m'\u001b[39;49m\u001b[38;5;124;43marquivoNome\u001b[39;49m\u001b[38;5;124;43m'\u001b[39;49m\u001b[43m)\u001b[49m\u001b[43m)\u001b[49m\u001b[43m,\u001b[49m\u001b[43m \u001b[49m\u001b[38;5;124;43m'\u001b[39;49m\u001b[38;5;124;43mwb\u001b[39;49m\u001b[38;5;124;43m'\u001b[39;49m\u001b[43m)\u001b[49m\n\u001b[0;32m     28\u001b[0m     file\u001b[38;5;241m.\u001b[39mwrite(TR\u001b[38;5;241m.\u001b[39mcontent)\n\u001b[0;32m     29\u001b[0m \u001b[38;5;28;01melse\u001b[39;00m:\n",
      "File \u001b[1;32m~\\AppData\\Roaming\\Python\\Python312\\site-packages\\IPython\\core\\interactiveshell.py:324\u001b[0m, in \u001b[0;36m_modified_open\u001b[1;34m(file, *args, **kwargs)\u001b[0m\n\u001b[0;32m    317\u001b[0m \u001b[38;5;28;01mif\u001b[39;00m file \u001b[38;5;129;01min\u001b[39;00m {\u001b[38;5;241m0\u001b[39m, \u001b[38;5;241m1\u001b[39m, \u001b[38;5;241m2\u001b[39m}:\n\u001b[0;32m    318\u001b[0m     \u001b[38;5;28;01mraise\u001b[39;00m \u001b[38;5;167;01mValueError\u001b[39;00m(\n\u001b[0;32m    319\u001b[0m         \u001b[38;5;124mf\u001b[39m\u001b[38;5;124m\"\u001b[39m\u001b[38;5;124mIPython won\u001b[39m\u001b[38;5;124m'\u001b[39m\u001b[38;5;124mt let you open fd=\u001b[39m\u001b[38;5;132;01m{\u001b[39;00mfile\u001b[38;5;132;01m}\u001b[39;00m\u001b[38;5;124m by default \u001b[39m\u001b[38;5;124m\"\u001b[39m\n\u001b[0;32m    320\u001b[0m         \u001b[38;5;124m\"\u001b[39m\u001b[38;5;124mas it is likely to crash IPython. If you know what you are doing, \u001b[39m\u001b[38;5;124m\"\u001b[39m\n\u001b[0;32m    321\u001b[0m         \u001b[38;5;124m\"\u001b[39m\u001b[38;5;124myou can use builtins\u001b[39m\u001b[38;5;124m'\u001b[39m\u001b[38;5;124m open.\u001b[39m\u001b[38;5;124m\"\u001b[39m\n\u001b[0;32m    322\u001b[0m     )\n\u001b[1;32m--> 324\u001b[0m \u001b[38;5;28;01mreturn\u001b[39;00m \u001b[43mio_open\u001b[49m\u001b[43m(\u001b[49m\u001b[43mfile\u001b[49m\u001b[43m,\u001b[49m\u001b[43m \u001b[49m\u001b[38;5;241;43m*\u001b[39;49m\u001b[43margs\u001b[49m\u001b[43m,\u001b[49m\u001b[43m \u001b[49m\u001b[38;5;241;43m*\u001b[39;49m\u001b[38;5;241;43m*\u001b[39;49m\u001b[43mkwargs\u001b[49m\u001b[43m)\u001b[49m\n",
      "\u001b[1;31mFileNotFoundError\u001b[0m: [Errno 2] No such file or directory: 'licitacoes4\\\\27020\\\\Ata-Habilitados-33/2024.pdf'"
     ]
    }
   ],
   "source": [
    "while(i <= maxPages):\n",
    "    print(f'Página [{i}]')\n",
    "\n",
    "    response = requests.get('https://app.comprasbr.com.br/licitacao/api/licitacao/public/portal/processos/?size=10&page='+str(i))\n",
    "    print(response)\n",
    "    if response.status_code != 200 : \n",
    "            break\n",
    "    data_table = json.loads(response.content)  \n",
    "    for j in range(10):\n",
    "          response = requests.get('https://app.comprasbr.com.br/licitacao/api/licitacao/public/portal/processos/?size=10&page='+str(i))\n",
    "          data_table = json.loads(response.content)  \n",
    "          id = data_table.get('items')[j].get('id')\n",
    "          response2 = requests.get('https://app.comprasbr.com.br/licitacao/api/licitacao/public/portal/paginaInterna/idLicitacao=' +str(id))\n",
    "          if response2.status_code != 200:\n",
    "               break\n",
    "          data_table2 = json.loads(response2.content)  \n",
    "          quantidade_documentos = 0\n",
    "          quantidade_documentos = len(data_table2.get('documentos'))\n",
    "          os.chdir(r'C:\\\\Users\\\\Guilherme Lube\\\\Documents\\\\Trabalho\\\\Download_licitacao\\\\licitacoes_compras')\n",
    "          while(z < int(quantidade_documentos)):\n",
    "            link = data_table2.get('documentos')[z].get('arquivoUri')\n",
    "            download3 = 'https://app.comprasbr.com.br/licitacao/hal/public/arquivos?uri='+str(link)+'&thumbnail=false'  \n",
    "            TR = requests.get(download3)\n",
    "            os.makedirs(os.path.dirname(os.path.join('licitacoes4', str(id), data_table2.get('documentos')[z].get('tipo'))), exist_ok=True)\n",
    "            if (TR != 'ESCLARECIMENTO Concorrência eletronica 003.24 - CONTRATAÇÃO DE EMPRESA ESPECIALIZADA NA ÁREA DE ENGENHARIA E ARQUITETURA PARA A REFORMA DE PONTE, LOCALIZADA NO BAIRRO VISTA ALEGRE - SERPREL.pdf'): \n",
    "                 \n",
    "                file = open(os.path.join('licitacoes4',str(id), data_table2.get('documentos')[z].get('arquivoNome')), 'wb')\n",
    "                file.write(TR.content)\n",
    "            else:\n",
    "                 print(f\"Arquivo nao existe\")\n",
    "            file.close()\n",
    "            z = z + 1\n",
    "    i = i + 1\n",
    "    j = 1\n",
    "    z = 0"
   ]
  }
 ],
 "metadata": {
  "kernelspec": {
   "display_name": "Python 3",
   "language": "python",
   "name": "python3"
  },
  "language_info": {
   "codemirror_mode": {
    "name": "ipython",
    "version": 3
   },
   "file_extension": ".py",
   "mimetype": "text/x-python",
   "name": "python",
   "nbconvert_exporter": "python",
   "pygments_lexer": "ipython3",
   "version": "3.12.3"
  }
 },
 "nbformat": 4,
 "nbformat_minor": 2
}
