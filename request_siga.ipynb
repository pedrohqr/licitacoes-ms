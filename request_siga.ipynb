{
 "cells": [
  {
   "cell_type": "code",
   "execution_count": 1,
   "metadata": {},
   "outputs": [],
   "source": [
    "import requests\n",
    "import json\n",
    "from tqdm.auto import tqdm\n",
    "import os"
   ]
  },
  {
   "cell_type": "code",
   "execution_count": 2,
   "metadata": {},
   "outputs": [],
   "source": [
    "maxPages = 1\n",
    "rowsPerPage = 100\n",
    "i = 1"
   ]
  },
  {
   "cell_type": "code",
   "execution_count": 3,
   "metadata": {},
   "outputs": [
    {
     "name": "stdout",
     "output_type": "stream",
     "text": [
      "Página [1]\n"
     ]
    },
    {
     "data": {
      "application/vnd.jupyter.widget-view+json": {
       "model_id": "677544b3c53c4203a5be748677e7457f",
       "version_major": 2,
       "version_minor": 0
      },
      "text/plain": [
       "  0%|          | 0/100 [00:00<?, ?it/s]"
      ]
     },
     "metadata": {},
     "output_type": "display_data"
    },
    {
     "name": "stdout",
     "output_type": "stream",
     "text": [
      "\tID [158]\n",
      "\tID [159]\n",
      "\tID [140]\n",
      "\tID [149]\n",
      "\tID [157]\n",
      "\tID [155]\n",
      "\tID [152]\n",
      "\tID [134]\n",
      "\tID [154]\n",
      "\tID [88]\n",
      "\tID [150]\n",
      "\tID [151]\n",
      "\tID [153]\n",
      "\tID [148]\n",
      "\tID [146]\n",
      "\tID [143]\n",
      "\tID [142]\n",
      "\tID [136]\n",
      "\tID [139]\n",
      "\tID [130]\n",
      "\tID [131]\n",
      "\tID [133]\n",
      "\tID [129]\n",
      "\tID [128]\n",
      "\tID [124]\n",
      "\tID [122]\n",
      "\tID [123]\n",
      "\tID [121]\n",
      "\tID [119]\n",
      "\tID [120]\n",
      "\tID [117]\n",
      "\tID [115]\n",
      "\tID [111]\n",
      "\tID [103]\n",
      "\tID [109]\n",
      "\tID [105]\n",
      "\tID [106]\n",
      "\tID [102]\n",
      "\tID [41]\n",
      "\tID [55]\n",
      "\tID [104]\n",
      "\tID [101]\n",
      "\tID [99]\n",
      "\tID [100]\n",
      "\tID [72]\n",
      "\tID [98]\n",
      "\tID [90]\n",
      "\tID [97]\n",
      "\tID [85]\n",
      "\tID [73]\n",
      "Página [2]\n"
     ]
    },
    {
     "data": {
      "application/vnd.jupyter.widget-view+json": {
       "model_id": "0daa7cdee39d42a78672ef485aeb01a7",
       "version_major": 2,
       "version_minor": 0
      },
      "text/plain": [
       "  0%|          | 0/88 [00:00<?, ?it/s]"
      ]
     },
     "metadata": {},
     "output_type": "display_data"
    },
    {
     "name": "stdout",
     "output_type": "stream",
     "text": [
      "\tID [96]\n",
      "\tID [67]\n",
      "\tID [68]\n",
      "\tID [63]\n",
      "\tID [66]\n",
      "\tID [65]\n"
     ]
    },
    {
     "ename": "FileNotFoundError",
     "evalue": "[Errno 2] No such file or directory: 'licitacoes\\\\65\\\\AV. DE LICITAÇÃO PE 0003 2023 AGEPEN 037 168 AQUISIÇÃO DE INSUMOS, UTENSÍLIOS, FERRAMENTAS E MÁQUINAS NECESSÁRIOS À EXECUÇÃO DOS CURSOS DE CORTE E COSTURA INDUSTRIAL , MARCENARIA, SERRALHERIA E PANIFICAÇÃO.pdf'",
     "output_type": "error",
     "traceback": [
      "\u001b[1;31m---------------------------------------------------------------------------\u001b[0m",
      "\u001b[1;31mFileNotFoundError\u001b[0m                         Traceback (most recent call last)",
      "Cell \u001b[1;32mIn[3], line 35\u001b[0m\n\u001b[0;32m     33\u001b[0m \u001b[38;5;28;01mfor\u001b[39;00m k \u001b[38;5;129;01min\u001b[39;00m \u001b[38;5;28mrange\u001b[39m(\u001b[38;5;241m0\u001b[39m, numberOfFiles):                       \u001b[38;5;66;03m# Baixa os arquivos da licitação atual\u001b[39;00m\n\u001b[0;32m     34\u001b[0m     os\u001b[38;5;241m.\u001b[39mmakedirs(os\u001b[38;5;241m.\u001b[39mpath\u001b[38;5;241m.\u001b[39mdirname(os\u001b[38;5;241m.\u001b[39mpath\u001b[38;5;241m.\u001b[39mjoin(\u001b[38;5;124m'\u001b[39m\u001b[38;5;124mlicitacoes\u001b[39m\u001b[38;5;124m'\u001b[39m, \u001b[38;5;28mstr\u001b[39m(\u001b[38;5;28mid\u001b[39m), dados_edital\u001b[38;5;241m.\u001b[39mget(\u001b[38;5;124m'\u001b[39m\u001b[38;5;124manexos\u001b[39m\u001b[38;5;124m'\u001b[39m)[k]\u001b[38;5;241m.\u001b[39mget(\u001b[38;5;124m'\u001b[39m\u001b[38;5;124marquivoNome\u001b[39m\u001b[38;5;124m'\u001b[39m))), exist_ok\u001b[38;5;241m=\u001b[39m\u001b[38;5;28;01mTrue\u001b[39;00m)\n\u001b[1;32m---> 35\u001b[0m     file \u001b[38;5;241m=\u001b[39m \u001b[38;5;28;43mopen\u001b[39;49m\u001b[43m(\u001b[49m\u001b[43mos\u001b[49m\u001b[38;5;241;43m.\u001b[39;49m\u001b[43mpath\u001b[49m\u001b[38;5;241;43m.\u001b[39;49m\u001b[43mjoin\u001b[49m\u001b[43m(\u001b[49m\u001b[38;5;124;43m'\u001b[39;49m\u001b[38;5;124;43mlicitacoes\u001b[39;49m\u001b[38;5;124;43m'\u001b[39;49m\u001b[43m,\u001b[49m\u001b[43m \u001b[49m\u001b[38;5;28;43mstr\u001b[39;49m\u001b[43m(\u001b[49m\u001b[38;5;28;43mid\u001b[39;49m\u001b[43m)\u001b[49m\u001b[43m,\u001b[49m\u001b[43m \u001b[49m\u001b[43mdados_edital\u001b[49m\u001b[38;5;241;43m.\u001b[39;49m\u001b[43mget\u001b[49m\u001b[43m(\u001b[49m\u001b[38;5;124;43m'\u001b[39;49m\u001b[38;5;124;43manexos\u001b[39;49m\u001b[38;5;124;43m'\u001b[39;49m\u001b[43m)\u001b[49m\u001b[43m[\u001b[49m\u001b[43mk\u001b[49m\u001b[43m]\u001b[49m\u001b[38;5;241;43m.\u001b[39;49m\u001b[43mget\u001b[49m\u001b[43m(\u001b[49m\u001b[38;5;124;43m'\u001b[39;49m\u001b[38;5;124;43marquivoNome\u001b[39;49m\u001b[38;5;124;43m'\u001b[39;49m\u001b[43m)\u001b[49m\u001b[43m)\u001b[49m\u001b[43m,\u001b[49m\u001b[43m \u001b[49m\u001b[38;5;124;43m'\u001b[39;49m\u001b[38;5;124;43mwb\u001b[39;49m\u001b[38;5;124;43m'\u001b[39;49m\u001b[43m)\u001b[49m\n\u001b[0;32m     36\u001b[0m     file\u001b[38;5;241m.\u001b[39mwrite(\n\u001b[0;32m     37\u001b[0m         requests\u001b[38;5;241m.\u001b[39mget(\u001b[38;5;124m'\u001b[39m\u001b[38;5;124mhttps://www.siga.ms.gov.br/licitacao/hal/public/arquivos?licitacaoId=\u001b[39m\u001b[38;5;124m'\u001b[39m\u001b[38;5;241m+\u001b[39m\u001b[38;5;28mstr\u001b[39m(data_table\u001b[38;5;241m.\u001b[39mget(\u001b[38;5;124m'\u001b[39m\u001b[38;5;124mcontent\u001b[39m\u001b[38;5;124m'\u001b[39m)[j]\u001b[38;5;241m.\u001b[39mget(\u001b[38;5;124m'\u001b[39m\u001b[38;5;124mid\u001b[39m\u001b[38;5;124m'\u001b[39m))\u001b[38;5;241m+\u001b[39m\n\u001b[0;32m     38\u001b[0m                     \u001b[38;5;124m'\u001b[39m\u001b[38;5;124m&documentoVirtualizadoId=\u001b[39m\u001b[38;5;124m'\u001b[39m\u001b[38;5;241m+\u001b[39m\u001b[38;5;28mstr\u001b[39m(dados_edital\u001b[38;5;241m.\u001b[39mget(\u001b[38;5;124m'\u001b[39m\u001b[38;5;124manexos\u001b[39m\u001b[38;5;124m'\u001b[39m)[k]\u001b[38;5;241m.\u001b[39mget(\u001b[38;5;124m'\u001b[39m\u001b[38;5;124midVirtualizado\u001b[39m\u001b[38;5;124m'\u001b[39m))\u001b[38;5;241m+\u001b[39m\n\u001b[1;32m   (...)\u001b[0m\n\u001b[0;32m     42\u001b[0m                     \u001b[38;5;124m'\u001b[39m\u001b[38;5;124m&thumbnail=false\u001b[39m\u001b[38;5;124m'\u001b[39m)\u001b[38;5;241m.\u001b[39mcontent\n\u001b[0;32m     43\u001b[0m     )\n\u001b[0;32m     44\u001b[0m     file\u001b[38;5;241m.\u001b[39mclose()\n",
      "File \u001b[1;32m~\\AppData\\Roaming\\Python\\Python312\\site-packages\\IPython\\core\\interactiveshell.py:324\u001b[0m, in \u001b[0;36m_modified_open\u001b[1;34m(file, *args, **kwargs)\u001b[0m\n\u001b[0;32m    317\u001b[0m \u001b[38;5;28;01mif\u001b[39;00m file \u001b[38;5;129;01min\u001b[39;00m {\u001b[38;5;241m0\u001b[39m, \u001b[38;5;241m1\u001b[39m, \u001b[38;5;241m2\u001b[39m}:\n\u001b[0;32m    318\u001b[0m     \u001b[38;5;28;01mraise\u001b[39;00m \u001b[38;5;167;01mValueError\u001b[39;00m(\n\u001b[0;32m    319\u001b[0m         \u001b[38;5;124mf\u001b[39m\u001b[38;5;124m\"\u001b[39m\u001b[38;5;124mIPython won\u001b[39m\u001b[38;5;124m'\u001b[39m\u001b[38;5;124mt let you open fd=\u001b[39m\u001b[38;5;132;01m{\u001b[39;00mfile\u001b[38;5;132;01m}\u001b[39;00m\u001b[38;5;124m by default \u001b[39m\u001b[38;5;124m\"\u001b[39m\n\u001b[0;32m    320\u001b[0m         \u001b[38;5;124m\"\u001b[39m\u001b[38;5;124mas it is likely to crash IPython. If you know what you are doing, \u001b[39m\u001b[38;5;124m\"\u001b[39m\n\u001b[0;32m    321\u001b[0m         \u001b[38;5;124m\"\u001b[39m\u001b[38;5;124myou can use builtins\u001b[39m\u001b[38;5;124m'\u001b[39m\u001b[38;5;124m open.\u001b[39m\u001b[38;5;124m\"\u001b[39m\n\u001b[0;32m    322\u001b[0m     )\n\u001b[1;32m--> 324\u001b[0m \u001b[38;5;28;01mreturn\u001b[39;00m \u001b[43mio_open\u001b[49m\u001b[43m(\u001b[49m\u001b[43mfile\u001b[49m\u001b[43m,\u001b[49m\u001b[43m \u001b[49m\u001b[38;5;241;43m*\u001b[39;49m\u001b[43margs\u001b[49m\u001b[43m,\u001b[49m\u001b[43m \u001b[49m\u001b[38;5;241;43m*\u001b[39;49m\u001b[38;5;241;43m*\u001b[39;49m\u001b[43mkwargs\u001b[49m\u001b[43m)\u001b[49m\n",
      "\u001b[1;31mFileNotFoundError\u001b[0m: [Errno 2] No such file or directory: 'licitacoes\\\\65\\\\AV. DE LICITAÇÃO PE 0003 2023 AGEPEN 037 168 AQUISIÇÃO DE INSUMOS, UTENSÍLIOS, FERRAMENTAS E MÁQUINAS NECESSÁRIOS À EXECUÇÃO DOS CURSOS DE CORTE E COSTURA INDUSTRIAL , MARCENARIA, SERRALHERIA E PANIFICAÇÃO.pdf'"
     ]
    }
   ],
   "source": [
    "while(i <= maxPages):\n",
    "\n",
    "    print(f'Página [{i}]')\n",
    "\n",
    "    response = requests.get('https://www.siga.ms.gov.br/licitacao/api/public/v1/licitacoes/?'+\n",
    "                        'page='+str(i)+\n",
    "                        '&rowsPerPage='+str(rowsPerPage)+\n",
    "                        '&sort=ASC'+\n",
    "                        '&totalItems=0'+\n",
    "                        '&size=100&')                           # Faz a requisição\n",
    "    if response.status_code != 200 : \n",
    "        print(f'Falha ao carregar tabela [{i}] - Status Code: {response.status_code}')\n",
    "        break\n",
    "    data_table = json.loads(response.content)                   # Transforma em JSON Object\n",
    "    maxPages = data_table.get('totalPages')                     # Atualiza o número máximo de páginas\n",
    "    maxPages = data_table.get('totalPages')                     # Atualiza o número máximo de páginas\n",
    "    numberOfElements = data_table.get('numberOfElements')       # Número de licitações da página atual\n",
    "\n",
    "    for j in tqdm(range(numberOfElements)):                     # Acessa todos os arquivos da página atual\n",
    "\n",
    "        id = data_table.get('content')[j].get('id')\n",
    "        response = requests.get('https://www.siga.ms.gov.br/licitacao/api/public/v1/licitacoes/'+str(id)+'/anexos')\n",
    "        if response.status_code != 200:\n",
    "            print(f'Falha ao carregar item [{str(id)}] - Status Code: {response.status_code}')\n",
    "        \n",
    "        if data_table.get('content')[j].get('linkAcessoExterno') == None: # Se estiver no SIGA          \n",
    "            dados_edital = json.loads(response.content)\n",
    "            numberOfFiles = len(dados_edital.get('anexos'))\n",
    "\n",
    "            print(f'\\tID [{str(id)}]')\n",
    "\n",
    "            os.makedirs(os.path.join('licitacoes', str(id)))\n",
    "            for k in range(0, numberOfFiles):                       # Baixa os arquivos da licitação atual\n",
    "                os.makedirs(os.path.dirname(os.path.join('licitacoes', str(id), dados_edital.get('anexos')[k].get('arquivoNome'))), exist_ok=True)\n",
    "                file = open(os.path.join('licitacoes', str(id), dados_edital.get('anexos')[k].get('arquivoNome')), 'wb')\n",
    "                file.write(\n",
    "                    requests.get('https://www.siga.ms.gov.br/licitacao/hal/public/arquivos?licitacaoId='+str(data_table.get('content')[j].get('id'))+\n",
    "                                '&documentoVirtualizadoId='+str(dados_edital.get('anexos')[k].get('idVirtualizado'))+\n",
    "                                '&nomeArquivo='+str(dados_edital.get('anexos')[k].get('arquivoNome'))+\n",
    "                                '&externo='+str(dados_edital.get('anexos')[k].get('externo'))+\n",
    "                                '&uri='+str(dados_edital.get('anexos')[k].get('arquivoUri'))+\n",
    "                                '&thumbnail=false').content\n",
    "                )\n",
    "                file.close()\n",
    "    \n",
    "    i += 1"
   ]
  }
 ],
 "metadata": {
  "kernelspec": {
   "display_name": "Python 3",
   "language": "python",
   "name": "python3"
  },
  "language_info": {
   "codemirror_mode": {
    "name": "ipython",
    "version": 3
   },
   "file_extension": ".py",
   "mimetype": "text/x-python",
   "name": "python",
   "nbconvert_exporter": "python",
   "pygments_lexer": "ipython3",
   "version": "3.12.3"
  }
 },
 "nbformat": 4,
 "nbformat_minor": 2
}
